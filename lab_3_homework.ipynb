{
 "cells": [
  {
   "cell_type": "code",
   "execution_count": 3,
   "metadata": {},
   "outputs": [
    {
     "output_type": "stream",
     "name": "stdout",
     "text": "1) 11 ['alerts', 'alters', 'artels', 'estral', 'laster', 'ratels', 'salter', 'slater', 'staler', 'stelar', 'talers']\n2) 11 ['apers', 'asper', 'pares', 'parse', 'pears', 'prase', 'presa', 'rapes', 'reaps', 'spare', 'spear']\n3) 10 ['least', 'setal', 'slate', 'stale', 'steal', 'stela', 'taels', 'tales', 'teals', 'tesla']\n4) 9 ['capers', 'crapes', 'escarp', 'pacers', 'parsec', 'recaps', 'scrape', 'secpar', 'spacer']\n5) 9 ['estrin', 'inerts', 'insert', 'inters', 'niters', 'nitres', 'sinter', 'triens', 'trines']\n"
    }
   ],
   "source": [
    "fin = open('words.txt')\n",
    "d={}\n",
    "res = []\n",
    "for line in fin:\n",
    "    word = line.strip()\n",
    "    t = list(word)\n",
    "    t.sort()\n",
    "    t = ''.join(t)\n",
    "    if t not in d:\n",
    "      d[t] = [word]\n",
    "    else:\n",
    "      d[t].append(word)\n",
    "anagrams_lists = []\n",
    "for i in d:\n",
    "  anagrams_lists.append(d[i])\n",
    "  anagrams_lists.sort(key=len, reverse=True)\n",
    "for i in range(0, 5):\n",
    "    print(\"%s) %d\" % ((i + 1), len(anagrams_lists[i])), anagrams_lists[i])"
   ]
  },
  {
   "cell_type": "code",
   "execution_count": 54,
   "metadata": {},
   "outputs": [
    {
     "output_type": "stream",
     "name": "stdout",
     "text": "probability of persons with same birthday in 500 classes: 69\n"
    }
   ],
   "source": [
    "import random\n",
    "def is_duplicates(lis):\n",
    "    count = 0\n",
    "    checked = set()\n",
    "    for i in lis:\n",
    "        if i in checked:\n",
    "            count += 1\n",
    "        checked.add(i)\n",
    "    return count\n",
    "def generate_birthday():\n",
    "    lis = [random.randint(1,365) for i in range(23)]\n",
    "    return lis\n",
    "dupli_count = 0\n",
    "for i in range(500):\n",
    "    dupli_count += is_duplicates(generate_birthday())\n",
    "prob = (float(dupli_count) / 500)* 100\n",
    "print(\"probability of persons with same birthday in 500 classes:\", round(prob))"
   ]
  },
  {
   "cell_type": "code",
   "execution_count": null,
   "metadata": {},
   "outputs": [],
   "source": []
  },
  {
   "cell_type": "code",
   "execution_count": null,
   "metadata": {},
   "outputs": [],
   "source": []
  },
  {
   "cell_type": "code",
   "execution_count": null,
   "metadata": {},
   "outputs": [],
   "source": []
  }
 ],
 "metadata": {
  "language_info": {
   "codemirror_mode": {
    "name": "ipython",
    "version": 3
   },
   "file_extension": ".py",
   "mimetype": "text/x-python",
   "name": "python",
   "nbconvert_exporter": "python",
   "pygments_lexer": "ipython3",
   "version": "3.8.1-final"
  },
  "orig_nbformat": 2,
  "kernelspec": {
   "name": "python38164bit8081a11a70df49239e80390d03ac8399",
   "display_name": "Python 3.8.1 64-bit"
  }
 },
 "nbformat": 4,
 "nbformat_minor": 2
}